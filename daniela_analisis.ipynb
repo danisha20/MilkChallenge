{
 "metadata": {
  "language_info": {
   "codemirror_mode": {
    "name": "ipython",
    "version": 3
   },
   "file_extension": ".py",
   "mimetype": "text/x-python",
   "name": "python",
   "nbconvert_exporter": "python",
   "pygments_lexer": "ipython3",
   "version": "3.7.6-final"
  },
  "orig_nbformat": 2,
  "kernelspec": {
   "name": "python376jvsc74a57bd09128dd7abc6f2bcca1f1110752e321c48fea6a9df3aaa3ae665d5777c27b5d48",
   "display_name": "Python 3.7.6 64-bit (conda)"
  }
 },
 "nbformat": 4,
 "nbformat_minor": 2,
 "cells": [
  {
   "source": [
    "# Spike Challenge"
   ],
   "cell_type": "markdown",
   "metadata": {}
  },
  {
   "source": [
    "*Objetivo* : Predecir precio de la leche a partir de variables climatológicas y macroeconómicas. "
   ],
   "cell_type": "markdown",
   "metadata": {}
  },
  {
   "source": [
    "## Libraries"
   ],
   "cell_type": "markdown",
   "metadata": {}
  },
  {
   "source": [
    "En esta sección importamos las librerias que utilizaremos para nuestro analisis."
   ],
   "cell_type": "markdown",
   "metadata": {}
  },
  {
   "cell_type": "code",
   "execution_count": 1,
   "metadata": {},
   "outputs": [],
   "source": [
    "# pandas data frames\n",
    "import pandas as pd\n",
    "\n",
    "#datetime format\n",
    "import datetime\n",
    "\n",
    "#multidimensional arrays\n",
    "import numpy as np\n",
    "\n",
    "#visualizations\n",
    "import seaborn as sns \n",
    "import matplotlib.pyplot as plt\n",
    "\n"
   ]
  },
  {
   "source": [
    "## Data"
   ],
   "cell_type": "markdown",
   "metadata": {}
  },
  {
   "cell_type": "code",
   "execution_count": 2,
   "metadata": {},
   "outputs": [],
   "source": [
    "varClim = pd.read_csv('precipitaciones.csv') #precipitaciones por region\n",
    "varMacr = pd.read_csv('banco_central.csv') #variables macroeconomicas\n",
    "precios  = pd.read_csv('precio_leche.csv') #variable dependiente"
   ]
  },
  {
   "source": [
    "## Cleansing and Exploratory Data Analysis"
   ],
   "cell_type": "markdown",
   "metadata": {}
  },
  {
   "source": [
    "En esta sección vamos a entender los datos que tenemos (distribución), limpiar inconsistencias, valores faltantes, valores extremos, entre otros. "
   ],
   "cell_type": "markdown",
   "metadata": {}
  },
  {
   "cell_type": "code",
   "execution_count": 20,
   "metadata": {},
   "outputs": [
    {
     "output_type": "execute_result",
     "data": {
      "text/plain": [
       "(496, 9)"
      ]
     },
     "metadata": {},
     "execution_count": 20
    }
   ],
   "source": []
  },
  {
   "cell_type": "code",
   "execution_count": 21,
   "metadata": {},
   "outputs": [
    {
     "output_type": "execute_result",
     "data": {
      "text/plain": [
       "(613, 85)"
      ]
     },
     "metadata": {},
     "execution_count": 21
    }
   ],
   "source": [
    "varMacr.shape"
   ]
  },
  {
   "cell_type": "code",
   "execution_count": 3,
   "metadata": {},
   "outputs": [
    {
     "output_type": "execute_result",
     "data": {
      "text/plain": [
       "         date  Coquimbo  Valparaiso  Metropolitana_de_Santiago  \\\n",
       "0  1989-02-01  0.719033    0.117045                   0.028272   \n",
       "1  1998-10-01  0.065216    0.000000                   0.011493   \n",
       "2  2001-02-01  2.030026    0.047987                   0.002634   \n",
       "3  2008-11-01  0.622784    0.000000                   0.015872   \n",
       "4  2009-04-01  0.008065    0.000000                   0.009396   \n",
       "\n",
       "   Libertador_Gral__Bernardo_O_Higgins      Maule     Biobio  La_Araucania  \\\n",
       "0                                  0.0   0.724667   9.172945     22.595834   \n",
       "1                                  0.0   0.008968   2.089674     14.702087   \n",
       "2                                  0.0   0.032163  10.768351     29.465057   \n",
       "3                                  0.0   1.734168  25.083557     64.901645   \n",
       "4                                  0.0  12.080715  56.233424     96.364235   \n",
       "\n",
       "     Los_Rios  \n",
       "0   52.268010  \n",
       "1   45.142041  \n",
       "2   65.571098  \n",
       "3  113.093488  \n",
       "4  155.622235  "
      ],
      "text/html": "<div>\n<style scoped>\n    .dataframe tbody tr th:only-of-type {\n        vertical-align: middle;\n    }\n\n    .dataframe tbody tr th {\n        vertical-align: top;\n    }\n\n    .dataframe thead th {\n        text-align: right;\n    }\n</style>\n<table border=\"1\" class=\"dataframe\">\n  <thead>\n    <tr style=\"text-align: right;\">\n      <th></th>\n      <th>date</th>\n      <th>Coquimbo</th>\n      <th>Valparaiso</th>\n      <th>Metropolitana_de_Santiago</th>\n      <th>Libertador_Gral__Bernardo_O_Higgins</th>\n      <th>Maule</th>\n      <th>Biobio</th>\n      <th>La_Araucania</th>\n      <th>Los_Rios</th>\n    </tr>\n  </thead>\n  <tbody>\n    <tr>\n      <th>0</th>\n      <td>1989-02-01</td>\n      <td>0.719033</td>\n      <td>0.117045</td>\n      <td>0.028272</td>\n      <td>0.0</td>\n      <td>0.724667</td>\n      <td>9.172945</td>\n      <td>22.595834</td>\n      <td>52.268010</td>\n    </tr>\n    <tr>\n      <th>1</th>\n      <td>1998-10-01</td>\n      <td>0.065216</td>\n      <td>0.000000</td>\n      <td>0.011493</td>\n      <td>0.0</td>\n      <td>0.008968</td>\n      <td>2.089674</td>\n      <td>14.702087</td>\n      <td>45.142041</td>\n    </tr>\n    <tr>\n      <th>2</th>\n      <td>2001-02-01</td>\n      <td>2.030026</td>\n      <td>0.047987</td>\n      <td>0.002634</td>\n      <td>0.0</td>\n      <td>0.032163</td>\n      <td>10.768351</td>\n      <td>29.465057</td>\n      <td>65.571098</td>\n    </tr>\n    <tr>\n      <th>3</th>\n      <td>2008-11-01</td>\n      <td>0.622784</td>\n      <td>0.000000</td>\n      <td>0.015872</td>\n      <td>0.0</td>\n      <td>1.734168</td>\n      <td>25.083557</td>\n      <td>64.901645</td>\n      <td>113.093488</td>\n    </tr>\n    <tr>\n      <th>4</th>\n      <td>2009-04-01</td>\n      <td>0.008065</td>\n      <td>0.000000</td>\n      <td>0.009396</td>\n      <td>0.0</td>\n      <td>12.080715</td>\n      <td>56.233424</td>\n      <td>96.364235</td>\n      <td>155.622235</td>\n    </tr>\n  </tbody>\n</table>\n</div>"
     },
     "metadata": {},
     "execution_count": 3
    }
   ],
   "source": [
    "varClim.head()"
   ]
  },
  {
   "cell_type": "code",
   "execution_count": 14,
   "metadata": {},
   "outputs": [
    {
     "output_type": "execute_result",
     "data": {
      "text/plain": [
       "                    Periodo Imacec_empalmado Imacec_produccion_de_bienes  \\\n",
       "0 2013-03-01 00:00:00+00:00      102.796.218                  10.546.824   \n",
       "1 2013-04-01 00:00:00+00:00      101.664.842                 999.272.757   \n",
       "2 2013-05-01 00:00:00+00:00      101.642.954                 993.959.922   \n",
       "3 2013-06-01 00:00:00+00:00      998.310.201                 968.367.884   \n",
       "4 2013-07-01 00:00:00+00:00      964.696.194                 961.051.418   \n",
       "\n",
       "  Imacec_minero Imacec_industria Imacec_resto_de_bienes Imacec_comercio  \\\n",
       "0   978.554.365      102.297.537            114.994.919     110.729.395   \n",
       "1   927.333.293      104.485.589            102.199.311     106.098.291   \n",
       "2    96.133.164      105.445.361            968.789.055     100.462.117   \n",
       "3   102.400.933      999.212.106             89.190.493     939.504.414   \n",
       "4   980.029.022      100.882.112            901.785.886      92.776.599   \n",
       "\n",
       "  Imacec_servicios Imacec_a_costo_de_factores Imacec_no_minero  ...  \\\n",
       "0      100.064.328                103.163.651      103.405.852  ...   \n",
       "1      102.600.107                101.937.319      102.766.884  ...   \n",
       "2      104.083.216                101.953.299      102.322.796  ...   \n",
       "3      103.857.161                100.222.381      995.139.235  ...   \n",
       "4      969.309.272                962.069.134      962.804.305  ...   \n",
       "\n",
       "  Indice_de_tipo_de_cambio_real___TCR_promedio_1986_100  \\\n",
       "0                                        865.903.468      \n",
       "1                                        867.806.065      \n",
       "2                                        878.030.947      \n",
       "3                                        913.180.348      \n",
       "4                                        909.263.447      \n",
       "\n",
       "  Indice_de_produccion_industrial Indice_de_produccion_industrial__mineria  \\\n",
       "0                     102.761.705                               98.915.705   \n",
       "1                     968.087.179                              914.276.663   \n",
       "2                     978.471.874                              966.913.278   \n",
       "3                     966.647.135                              981.820.974   \n",
       "4                     100.100.749                              990.198.382   \n",
       "\n",
       "  Indice_de_produccion_industrial_electricidad__gas_y_agua  \\\n",
       "0                                                NaN         \n",
       "1                                                NaN         \n",
       "2                                                NaN         \n",
       "3                                                NaN         \n",
       "4                                                NaN         \n",
       "\n",
       "  Indice_de_produccion_industrial__manufacturera  \\\n",
       "0                                    108.387.837   \n",
       "1                                    104.545.429   \n",
       "2                                     99.468.801   \n",
       "3                                     94.969.678   \n",
       "4                                    102.128.977   \n",
       "\n",
       "  Generacion_de_energia_electrica_CDEC_GWh  \\\n",
       "0                              580.480.672   \n",
       "1                              544.815.032   \n",
       "2                               56.891.916   \n",
       "3                               56.594.867   \n",
       "4                              586.329.899   \n",
       "\n",
       "  Indice_de_ventas_comercio_real_IVCM  \\\n",
       "0                                 NaN   \n",
       "1                                 NaN   \n",
       "2                                 NaN   \n",
       "3                                 NaN   \n",
       "4                                 NaN   \n",
       "\n",
       "  Indice_de_ventas_comercio_real_no_durables_IVCM  \\\n",
       "0                                             NaN   \n",
       "1                                             NaN   \n",
       "2                                             NaN   \n",
       "3                                             NaN   \n",
       "4                                             NaN   \n",
       "\n",
       "  Indice_de_ventas_comercio_real_durables_IVCM Ventas_autos_nuevos  \n",
       "0                                          NaN             28577.0  \n",
       "1                                          NaN             32206.0  \n",
       "2                                          NaN             31589.0  \n",
       "3                                          NaN             28457.0  \n",
       "4                                          NaN             31736.0  \n",
       "\n",
       "[5 rows x 85 columns]"
      ],
      "text/html": "<div>\n<style scoped>\n    .dataframe tbody tr th:only-of-type {\n        vertical-align: middle;\n    }\n\n    .dataframe tbody tr th {\n        vertical-align: top;\n    }\n\n    .dataframe thead th {\n        text-align: right;\n    }\n</style>\n<table border=\"1\" class=\"dataframe\">\n  <thead>\n    <tr style=\"text-align: right;\">\n      <th></th>\n      <th>Periodo</th>\n      <th>Imacec_empalmado</th>\n      <th>Imacec_produccion_de_bienes</th>\n      <th>Imacec_minero</th>\n      <th>Imacec_industria</th>\n      <th>Imacec_resto_de_bienes</th>\n      <th>Imacec_comercio</th>\n      <th>Imacec_servicios</th>\n      <th>Imacec_a_costo_de_factores</th>\n      <th>Imacec_no_minero</th>\n      <th>...</th>\n      <th>Indice_de_tipo_de_cambio_real___TCR_promedio_1986_100</th>\n      <th>Indice_de_produccion_industrial</th>\n      <th>Indice_de_produccion_industrial__mineria</th>\n      <th>Indice_de_produccion_industrial_electricidad__gas_y_agua</th>\n      <th>Indice_de_produccion_industrial__manufacturera</th>\n      <th>Generacion_de_energia_electrica_CDEC_GWh</th>\n      <th>Indice_de_ventas_comercio_real_IVCM</th>\n      <th>Indice_de_ventas_comercio_real_no_durables_IVCM</th>\n      <th>Indice_de_ventas_comercio_real_durables_IVCM</th>\n      <th>Ventas_autos_nuevos</th>\n    </tr>\n  </thead>\n  <tbody>\n    <tr>\n      <th>0</th>\n      <td>2013-03-01 00:00:00+00:00</td>\n      <td>102.796.218</td>\n      <td>10.546.824</td>\n      <td>978.554.365</td>\n      <td>102.297.537</td>\n      <td>114.994.919</td>\n      <td>110.729.395</td>\n      <td>100.064.328</td>\n      <td>103.163.651</td>\n      <td>103.405.852</td>\n      <td>...</td>\n      <td>865.903.468</td>\n      <td>102.761.705</td>\n      <td>98.915.705</td>\n      <td>NaN</td>\n      <td>108.387.837</td>\n      <td>580.480.672</td>\n      <td>NaN</td>\n      <td>NaN</td>\n      <td>NaN</td>\n      <td>28577.0</td>\n    </tr>\n    <tr>\n      <th>1</th>\n      <td>2013-04-01 00:00:00+00:00</td>\n      <td>101.664.842</td>\n      <td>999.272.757</td>\n      <td>927.333.293</td>\n      <td>104.485.589</td>\n      <td>102.199.311</td>\n      <td>106.098.291</td>\n      <td>102.600.107</td>\n      <td>101.937.319</td>\n      <td>102.766.884</td>\n      <td>...</td>\n      <td>867.806.065</td>\n      <td>968.087.179</td>\n      <td>914.276.663</td>\n      <td>NaN</td>\n      <td>104.545.429</td>\n      <td>544.815.032</td>\n      <td>NaN</td>\n      <td>NaN</td>\n      <td>NaN</td>\n      <td>32206.0</td>\n    </tr>\n    <tr>\n      <th>2</th>\n      <td>2013-05-01 00:00:00+00:00</td>\n      <td>101.642.954</td>\n      <td>993.959.922</td>\n      <td>96.133.164</td>\n      <td>105.445.361</td>\n      <td>968.789.055</td>\n      <td>100.462.117</td>\n      <td>104.083.216</td>\n      <td>101.953.299</td>\n      <td>102.322.796</td>\n      <td>...</td>\n      <td>878.030.947</td>\n      <td>978.471.874</td>\n      <td>966.913.278</td>\n      <td>NaN</td>\n      <td>99.468.801</td>\n      <td>56.891.916</td>\n      <td>NaN</td>\n      <td>NaN</td>\n      <td>NaN</td>\n      <td>31589.0</td>\n    </tr>\n    <tr>\n      <th>3</th>\n      <td>2013-06-01 00:00:00+00:00</td>\n      <td>998.310.201</td>\n      <td>968.367.884</td>\n      <td>102.400.933</td>\n      <td>999.212.106</td>\n      <td>89.190.493</td>\n      <td>939.504.414</td>\n      <td>103.857.161</td>\n      <td>100.222.381</td>\n      <td>995.139.235</td>\n      <td>...</td>\n      <td>913.180.348</td>\n      <td>966.647.135</td>\n      <td>981.820.974</td>\n      <td>NaN</td>\n      <td>94.969.678</td>\n      <td>56.594.867</td>\n      <td>NaN</td>\n      <td>NaN</td>\n      <td>NaN</td>\n      <td>28457.0</td>\n    </tr>\n    <tr>\n      <th>4</th>\n      <td>2013-07-01 00:00:00+00:00</td>\n      <td>964.696.194</td>\n      <td>961.051.418</td>\n      <td>980.029.022</td>\n      <td>100.882.112</td>\n      <td>901.785.886</td>\n      <td>92.776.599</td>\n      <td>969.309.272</td>\n      <td>962.069.134</td>\n      <td>962.804.305</td>\n      <td>...</td>\n      <td>909.263.447</td>\n      <td>100.100.749</td>\n      <td>990.198.382</td>\n      <td>NaN</td>\n      <td>102.128.977</td>\n      <td>586.329.899</td>\n      <td>NaN</td>\n      <td>NaN</td>\n      <td>NaN</td>\n      <td>31736.0</td>\n    </tr>\n  </tbody>\n</table>\n<p>5 rows × 85 columns</p>\n</div>"
     },
     "metadata": {},
     "execution_count": 14
    }
   ],
   "source": [
    "varMacr.head()"
   ]
  },
  {
   "source": [
    "### Dates Standarization"
   ],
   "cell_type": "markdown",
   "metadata": {}
  },
  {
   "cell_type": "code",
   "execution_count": 4,
   "metadata": {},
   "outputs": [
    {
     "output_type": "execute_result",
     "data": {
      "text/plain": [
       "0     1989-02-01\n",
       "1     1998-10-01\n",
       "2     2001-02-01\n",
       "3     2008-11-01\n",
       "4     2009-04-01\n",
       "         ...    \n",
       "491   1988-10-01\n",
       "492   2019-08-01\n",
       "493   2015-06-01\n",
       "494   2016-09-01\n",
       "495   1982-04-01\n",
       "Name: date, Length: 496, dtype: datetime64[ns]"
      ]
     },
     "metadata": {},
     "execution_count": 4
    }
   ],
   "source": [
    "varClim['date'].apply(pd.to_datetime)"
   ]
  },
  {
   "cell_type": "code",
   "execution_count": 6,
   "metadata": {},
   "outputs": [],
   "source": [
    "#varMacr['Periodo']  = pd.to_datetime(varMacr['Periodo'], errors = 'raise', dayfirst=False, yearfirst=True)"
   ]
  },
  {
   "source": [
    "It seems like the monts are out of bounds. There is a month that seems to have  a 13 value. Since this row has no much information, we will drop it"
   ],
   "cell_type": "markdown",
   "metadata": {}
  },
  {
   "cell_type": "code",
   "execution_count": 7,
   "metadata": {},
   "outputs": [
    {
     "output_type": "execute_result",
     "data": {
      "text/plain": [
       "                    Periodo Imacec_empalmado Imacec_produccion_de_bienes  \\\n",
       "89  2020-13-01 00:00:00 UTC              NaN                         NaN   \n",
       "\n",
       "   Imacec_minero Imacec_industria Imacec_resto_de_bienes Imacec_comercio  \\\n",
       "89           NaN              NaN                    NaN     803.222.345   \n",
       "\n",
       "   Imacec_servicios Imacec_a_costo_de_factores Imacec_no_minero  ...  \\\n",
       "89              NaN                        NaN              NaN  ...   \n",
       "\n",
       "   Indice_de_tipo_de_cambio_real___TCR_promedio_1986_100  \\\n",
       "89                                                NaN      \n",
       "\n",
       "   Indice_de_produccion_industrial Indice_de_produccion_industrial__mineria  \\\n",
       "89                             NaN                                      NaN   \n",
       "\n",
       "   Indice_de_produccion_industrial_electricidad__gas_y_agua  \\\n",
       "89                                                NaN         \n",
       "\n",
       "   Indice_de_produccion_industrial__manufacturera  \\\n",
       "89                                            NaN   \n",
       "\n",
       "   Generacion_de_energia_electrica_CDEC_GWh  \\\n",
       "89                                      NaN   \n",
       "\n",
       "   Indice_de_ventas_comercio_real_IVCM  \\\n",
       "89                                 NaN   \n",
       "\n",
       "   Indice_de_ventas_comercio_real_no_durables_IVCM  \\\n",
       "89                                             NaN   \n",
       "\n",
       "   Indice_de_ventas_comercio_real_durables_IVCM Ventas_autos_nuevos  \n",
       "89                                  893.234.345                 NaN  \n",
       "\n",
       "[1 rows x 85 columns]"
      ],
      "text/html": "<div>\n<style scoped>\n    .dataframe tbody tr th:only-of-type {\n        vertical-align: middle;\n    }\n\n    .dataframe tbody tr th {\n        vertical-align: top;\n    }\n\n    .dataframe thead th {\n        text-align: right;\n    }\n</style>\n<table border=\"1\" class=\"dataframe\">\n  <thead>\n    <tr style=\"text-align: right;\">\n      <th></th>\n      <th>Periodo</th>\n      <th>Imacec_empalmado</th>\n      <th>Imacec_produccion_de_bienes</th>\n      <th>Imacec_minero</th>\n      <th>Imacec_industria</th>\n      <th>Imacec_resto_de_bienes</th>\n      <th>Imacec_comercio</th>\n      <th>Imacec_servicios</th>\n      <th>Imacec_a_costo_de_factores</th>\n      <th>Imacec_no_minero</th>\n      <th>...</th>\n      <th>Indice_de_tipo_de_cambio_real___TCR_promedio_1986_100</th>\n      <th>Indice_de_produccion_industrial</th>\n      <th>Indice_de_produccion_industrial__mineria</th>\n      <th>Indice_de_produccion_industrial_electricidad__gas_y_agua</th>\n      <th>Indice_de_produccion_industrial__manufacturera</th>\n      <th>Generacion_de_energia_electrica_CDEC_GWh</th>\n      <th>Indice_de_ventas_comercio_real_IVCM</th>\n      <th>Indice_de_ventas_comercio_real_no_durables_IVCM</th>\n      <th>Indice_de_ventas_comercio_real_durables_IVCM</th>\n      <th>Ventas_autos_nuevos</th>\n    </tr>\n  </thead>\n  <tbody>\n    <tr>\n      <th>89</th>\n      <td>2020-13-01 00:00:00 UTC</td>\n      <td>NaN</td>\n      <td>NaN</td>\n      <td>NaN</td>\n      <td>NaN</td>\n      <td>NaN</td>\n      <td>803.222.345</td>\n      <td>NaN</td>\n      <td>NaN</td>\n      <td>NaN</td>\n      <td>...</td>\n      <td>NaN</td>\n      <td>NaN</td>\n      <td>NaN</td>\n      <td>NaN</td>\n      <td>NaN</td>\n      <td>NaN</td>\n      <td>NaN</td>\n      <td>NaN</td>\n      <td>893.234.345</td>\n      <td>NaN</td>\n    </tr>\n  </tbody>\n</table>\n<p>1 rows × 85 columns</p>\n</div>"
     },
     "metadata": {},
     "execution_count": 7
    }
   ],
   "source": [
    "varMacr.loc[varMacr['Periodo'] == '2020-13-01 00:00:00 UTC']\n"
   ]
  },
  {
   "source": [
    "varMacr.shape"
   ],
   "cell_type": "code",
   "metadata": {},
   "execution_count": 8,
   "outputs": [
    {
     "output_type": "execute_result",
     "data": {
      "text/plain": [
       "(614, 85)"
      ]
     },
     "metadata": {},
     "execution_count": 8
    }
   ]
  },
  {
   "cell_type": "code",
   "execution_count": 9,
   "metadata": {},
   "outputs": [],
   "source": [
    "varMacr = varMacr[varMacr['Periodo'] != '2020-13-01 00:00:00 UTC']"
   ]
  },
  {
   "cell_type": "code",
   "execution_count": 10,
   "metadata": {},
   "outputs": [
    {
     "output_type": "execute_result",
     "data": {
      "text/plain": [
       "(613, 85)"
      ]
     },
     "metadata": {},
     "execution_count": 10
    }
   ],
   "source": [
    "varMacr.shape\n"
   ]
  },
  {
   "cell_type": "code",
   "execution_count": 13,
   "metadata": {},
   "outputs": [
    {
     "output_type": "execute_result",
     "data": {
      "text/plain": [
       "0     2013-03-01\n",
       "1     2013-04-01\n",
       "2     2013-05-01\n",
       "3     2013-06-01\n",
       "4     2013-07-01\n",
       "         ...    \n",
       "609   2008-08-01\n",
       "610   2008-09-01\n",
       "611   2008-10-01\n",
       "612   2008-11-01\n",
       "613   2008-12-01\n",
       "Name: Periodo, Length: 613, dtype: datetime64[ns]"
      ]
     },
     "metadata": {},
     "execution_count": 13
    }
   ],
   "source": [
    "varMacr['Periodo']  = pd.to_datetime(varMacr['Periodo'], errors = 'raise', dayfirst=False, yearfirst=True,utc = False)\n",
    "varMacr['Periodo'].dt.tz_localize(None)"
   ]
  },
  {
   "source": [
    "### Detecting Missing Values"
   ],
   "cell_type": "markdown",
   "metadata": {}
  },
  {
   "cell_type": "code",
   "execution_count": 48,
   "metadata": {},
   "outputs": [],
   "source": [
    "varClim.fillna(np.nan,inplace = True)\n",
    "varMacr.fillna(np.nan, inplace = True)"
   ]
  },
  {
   "cell_type": "code",
   "execution_count": 64,
   "metadata": {},
   "outputs": [
    {
     "output_type": "stream",
     "name": "stdout",
     "text": [
      "The total number of precipition columns is: 9\n"
     ]
    }
   ],
   "source": [
    "print('The total number of precipition columns is:', varClim.shape[1])"
   ]
  },
  {
   "cell_type": "code",
   "execution_count": 59,
   "metadata": {},
   "outputs": [
    {
     "output_type": "execute_result",
     "data": {
      "text/plain": [
       "                                     Total  Percent\n",
       "Los_Rios                                 0      0.0\n",
       "La_Araucania                             0      0.0\n",
       "Biobio                                   0      0.0\n",
       "Maule                                    0      0.0\n",
       "Libertador_Gral__Bernardo_O_Higgins      0      0.0\n",
       "Metropolitana_de_Santiago                0      0.0\n",
       "Valparaiso                               0      0.0\n",
       "Coquimbo                                 0      0.0\n",
       "date                                     0      0.0"
      ],
      "text/html": "<div>\n<style scoped>\n    .dataframe tbody tr th:only-of-type {\n        vertical-align: middle;\n    }\n\n    .dataframe tbody tr th {\n        vertical-align: top;\n    }\n\n    .dataframe thead th {\n        text-align: right;\n    }\n</style>\n<table border=\"1\" class=\"dataframe\">\n  <thead>\n    <tr style=\"text-align: right;\">\n      <th></th>\n      <th>Total</th>\n      <th>Percent</th>\n    </tr>\n  </thead>\n  <tbody>\n    <tr>\n      <th>Los_Rios</th>\n      <td>0</td>\n      <td>0.0</td>\n    </tr>\n    <tr>\n      <th>La_Araucania</th>\n      <td>0</td>\n      <td>0.0</td>\n    </tr>\n    <tr>\n      <th>Biobio</th>\n      <td>0</td>\n      <td>0.0</td>\n    </tr>\n    <tr>\n      <th>Maule</th>\n      <td>0</td>\n      <td>0.0</td>\n    </tr>\n    <tr>\n      <th>Libertador_Gral__Bernardo_O_Higgins</th>\n      <td>0</td>\n      <td>0.0</td>\n    </tr>\n    <tr>\n      <th>Metropolitana_de_Santiago</th>\n      <td>0</td>\n      <td>0.0</td>\n    </tr>\n    <tr>\n      <th>Valparaiso</th>\n      <td>0</td>\n      <td>0.0</td>\n    </tr>\n    <tr>\n      <th>Coquimbo</th>\n      <td>0</td>\n      <td>0.0</td>\n    </tr>\n    <tr>\n      <th>date</th>\n      <td>0</td>\n      <td>0.0</td>\n    </tr>\n  </tbody>\n</table>\n</div>"
     },
     "metadata": {},
     "execution_count": 59
    }
   ],
   "source": [
    "total = varClim.isnull().sum().sort_values(ascending=False)\n",
    "percent = (varClim.isnull().sum()/varClim.isnull().count()).sort_values(ascending=False)\n",
    "missing_data = pd.concat([total, percent], axis=1, keys=['Total', 'Percent'])\n",
    "missing_data"
   ]
  },
  {
   "cell_type": "code",
   "execution_count": 65,
   "metadata": {},
   "outputs": [
    {
     "output_type": "stream",
     "name": "stdout",
     "text": [
      "The total number of macroeconomic varaibles is: 85\n"
     ]
    }
   ],
   "source": [
    "print('The total number of macroeconomic varaibles is:', varMacr.shape[1])"
   ]
  },
  {
   "cell_type": "code",
   "execution_count": 70,
   "metadata": {},
   "outputs": [
    {
     "output_type": "execute_result",
     "data": {
      "text/plain": [
       "Total      56\n",
       "Percent    56\n",
       "dtype: int64"
      ]
     },
     "metadata": {},
     "execution_count": 70
    }
   ],
   "source": [
    "total = varMacr.isnull().sum().sort_values(ascending=False)\n",
    "percent = (varMacr.isnull().sum()/varMacr.isnull().count()).sort_values(ascending=False)\n",
    "missing_data = pd.concat([total, percent], axis=1, keys=['Total', 'Percent'])\n",
    "missing_data[(missing_data.Percent >= 0.80)].count()"
   ]
  },
  {
   "source": [
    "We have identified 56 rows out of 85 with more than 80% of missing data. That is a lot. "
   ],
   "cell_type": "markdown",
   "metadata": {}
  },
  {
   "source": [
    "### Data Distribution"
   ],
   "cell_type": "markdown",
   "metadata": {}
  },
  {
   "source": [
    "## Visualization"
   ],
   "cell_type": "markdown",
   "metadata": {}
  },
  {
   "cell_type": "code",
   "execution_count": 42,
   "metadata": {},
   "outputs": [],
   "source": [
    "def plot_timeSeries(data, x, y, title, xlabel , ylabel, dpi = 100):\n",
    "    plt.figure(figsize=(16,5), dpi = dpi)\n",
    "    plt.plot(x,y, color = 'tab:red')\n",
    "    plt.gca().set(title, xlabel, ylabel)\n",
    "    plt.show()"
   ]
  },
  {
   "cell_type": "code",
   "execution_count": 44,
   "metadata": {},
   "outputs": [
    {
     "output_type": "error",
     "ename": "AttributeError",
     "evalue": "'DataFrame' object has no attribute 'value'",
     "traceback": [
      "\u001b[0;31m---------------------------------------------------------------------------\u001b[0m",
      "\u001b[0;31mAttributeError\u001b[0m                            Traceback (most recent call last)",
      "\u001b[0;32m<ipython-input-44-15be8eb59880>\u001b[0m in \u001b[0;36m<module>\u001b[0;34m\u001b[0m\n\u001b[0;32m----> 1\u001b[0;31m \u001b[0mplot_timeSeries\u001b[0m\u001b[0;34m(\u001b[0m\u001b[0mvarClim\u001b[0m\u001b[0;34m,\u001b[0m \u001b[0mx\u001b[0m\u001b[0;34m=\u001b[0m\u001b[0mvarClim\u001b[0m\u001b[0;34m.\u001b[0m\u001b[0mindex\u001b[0m\u001b[0;34m,\u001b[0m \u001b[0my\u001b[0m\u001b[0;34m=\u001b[0m\u001b[0mvarClim\u001b[0m\u001b[0;34m.\u001b[0m\u001b[0mvalue\u001b[0m\u001b[0;34m,\u001b[0m \u001b[0mtitle\u001b[0m\u001b[0;34m=\u001b[0m\u001b[0;34m'Monthly anti-diabetic drug sales in Australia from 1992 to 2008.'\u001b[0m\u001b[0;34m)\u001b[0m\u001b[0;34m\u001b[0m\u001b[0;34m\u001b[0m\u001b[0m\n\u001b[0m",
      "\u001b[0;32m~/anaconda3/lib/python3.7/site-packages/pandas/core/generic.py\u001b[0m in \u001b[0;36m__getattr__\u001b[0;34m(self, name)\u001b[0m\n\u001b[1;32m   5128\u001b[0m             \u001b[0;32mif\u001b[0m \u001b[0mself\u001b[0m\u001b[0;34m.\u001b[0m\u001b[0m_info_axis\u001b[0m\u001b[0;34m.\u001b[0m\u001b[0m_can_hold_identifiers_and_holds_name\u001b[0m\u001b[0;34m(\u001b[0m\u001b[0mname\u001b[0m\u001b[0;34m)\u001b[0m\u001b[0;34m:\u001b[0m\u001b[0;34m\u001b[0m\u001b[0;34m\u001b[0m\u001b[0m\n\u001b[1;32m   5129\u001b[0m                 \u001b[0;32mreturn\u001b[0m \u001b[0mself\u001b[0m\u001b[0;34m[\u001b[0m\u001b[0mname\u001b[0m\u001b[0;34m]\u001b[0m\u001b[0;34m\u001b[0m\u001b[0;34m\u001b[0m\u001b[0m\n\u001b[0;32m-> 5130\u001b[0;31m             \u001b[0;32mreturn\u001b[0m \u001b[0mobject\u001b[0m\u001b[0;34m.\u001b[0m\u001b[0m__getattribute__\u001b[0m\u001b[0;34m(\u001b[0m\u001b[0mself\u001b[0m\u001b[0;34m,\u001b[0m \u001b[0mname\u001b[0m\u001b[0;34m)\u001b[0m\u001b[0;34m\u001b[0m\u001b[0;34m\u001b[0m\u001b[0m\n\u001b[0m\u001b[1;32m   5131\u001b[0m \u001b[0;34m\u001b[0m\u001b[0m\n\u001b[1;32m   5132\u001b[0m     \u001b[0;32mdef\u001b[0m \u001b[0m__setattr__\u001b[0m\u001b[0;34m(\u001b[0m\u001b[0mself\u001b[0m\u001b[0;34m,\u001b[0m \u001b[0mname\u001b[0m\u001b[0;34m:\u001b[0m \u001b[0mstr\u001b[0m\u001b[0;34m,\u001b[0m \u001b[0mvalue\u001b[0m\u001b[0;34m)\u001b[0m \u001b[0;34m->\u001b[0m \u001b[0;32mNone\u001b[0m\u001b[0;34m:\u001b[0m\u001b[0;34m\u001b[0m\u001b[0;34m\u001b[0m\u001b[0m\n",
      "\u001b[0;31mAttributeError\u001b[0m: 'DataFrame' object has no attribute 'value'"
     ]
    }
   ],
   "source": [
    "plot_timeSeries(varClim, x=varClim.index, y=varClim.value, title='Monthly anti-diabetic drug sales in Australia from 1992 to 2008.') "
   ]
  },
  {
   "cell_type": "code",
   "execution_count": null,
   "metadata": {},
   "outputs": [],
   "source": []
  }
 ]
}