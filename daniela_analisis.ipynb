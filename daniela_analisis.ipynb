{
 "metadata": {
  "language_info": {
   "codemirror_mode": {
    "name": "ipython",
    "version": 3
   },
   "file_extension": ".py",
   "mimetype": "text/x-python",
   "name": "python",
   "nbconvert_exporter": "python",
   "pygments_lexer": "ipython3",
   "version": "3.7.6-final"
  },
  "orig_nbformat": 2,
  "kernelspec": {
   "name": "python376jvsc74a57bd09128dd7abc6f2bcca1f1110752e321c48fea6a9df3aaa3ae665d5777c27b5d48",
   "display_name": "Python 3.7.6 64-bit (conda)"
  }
 },
 "nbformat": 4,
 "nbformat_minor": 2,
 "cells": [
  {
   "source": [
    "# Spike Challenge"
   ],
   "cell_type": "markdown",
   "metadata": {}
  },
  {
   "source": [
    "*Objetivo* : Predecir precio de la leche a partir de variables climatológicas y macroeconómicas. "
   ],
   "cell_type": "markdown",
   "metadata": {}
  },
  {
   "source": [
    "## Libreria"
   ],
   "cell_type": "markdown",
   "metadata": {}
  },
  {
   "source": [
    "En esta sección importamos las librerias que utilizaremos para nuestro analisis."
   ],
   "cell_type": "markdown",
   "metadata": {}
  },
  {
   "cell_type": "code",
   "execution_count": 6,
   "metadata": {},
   "outputs": [],
   "source": [
    "# pandas data frames\n",
    "import pandas as pd\n",
    "\n",
    "#parse datetime\n",
    "from dateutil.parser import parse \n",
    "\n",
    "#multidimensional arrays\n",
    "import numpy as np\n",
    "\n",
    "#visualizations\n",
    "import seaborn as sns \n",
    "import matplotlib.pyplot as plt\n",
    "\n"
   ]
  },
  {
   "source": [
    "## Datos"
   ],
   "cell_type": "markdown",
   "metadata": {}
  },
  {
   "cell_type": "code",
   "execution_count": 11,
   "metadata": {},
   "outputs": [],
   "source": [
    "varClim = pd.read_csv('precipitaciones.csv') #precipitaciones por region\n",
    "varMacr = pd.read_csv('banco_central.csv') #variables macroeconomicas\n",
    "precios  = pd.read_csv('precio_leche.csv') #variable dependiente"
   ]
  },
  {
   "source": [
    "## Limpieza y Exploración de Datos"
   ],
   "cell_type": "markdown",
   "metadata": {}
  },
  {
   "source": [
    "En esta sección vamos a entender los datos que tenemos (distribución), limpiar inconsistencias, valores faltantes, valores extremos, entre otros. "
   ],
   "cell_type": "markdown",
   "metadata": {}
  },
  {
   "cell_type": "code",
   "execution_count": 7,
   "metadata": {},
   "outputs": [
    {
     "output_type": "execute_result",
     "data": {
      "text/plain": [
       "         date  Coquimbo  Valparaiso  Metropolitana_de_Santiago  \\\n",
       "0  1989-02-01  0.719033    0.117045                   0.028272   \n",
       "1  1998-10-01  0.065216    0.000000                   0.011493   \n",
       "2  2001-02-01  2.030026    0.047987                   0.002634   \n",
       "3  2008-11-01  0.622784    0.000000                   0.015872   \n",
       "4  2009-04-01  0.008065    0.000000                   0.009396   \n",
       "\n",
       "   Libertador_Gral__Bernardo_O_Higgins      Maule     Biobio  La_Araucania  \\\n",
       "0                                  0.0   0.724667   9.172945     22.595834   \n",
       "1                                  0.0   0.008968   2.089674     14.702087   \n",
       "2                                  0.0   0.032163  10.768351     29.465057   \n",
       "3                                  0.0   1.734168  25.083557     64.901645   \n",
       "4                                  0.0  12.080715  56.233424     96.364235   \n",
       "\n",
       "     Los_Rios  \n",
       "0   52.268010  \n",
       "1   45.142041  \n",
       "2   65.571098  \n",
       "3  113.093488  \n",
       "4  155.622235  "
      ],
      "text/html": "<div>\n<style scoped>\n    .dataframe tbody tr th:only-of-type {\n        vertical-align: middle;\n    }\n\n    .dataframe tbody tr th {\n        vertical-align: top;\n    }\n\n    .dataframe thead th {\n        text-align: right;\n    }\n</style>\n<table border=\"1\" class=\"dataframe\">\n  <thead>\n    <tr style=\"text-align: right;\">\n      <th></th>\n      <th>date</th>\n      <th>Coquimbo</th>\n      <th>Valparaiso</th>\n      <th>Metropolitana_de_Santiago</th>\n      <th>Libertador_Gral__Bernardo_O_Higgins</th>\n      <th>Maule</th>\n      <th>Biobio</th>\n      <th>La_Araucania</th>\n      <th>Los_Rios</th>\n    </tr>\n  </thead>\n  <tbody>\n    <tr>\n      <th>0</th>\n      <td>1989-02-01</td>\n      <td>0.719033</td>\n      <td>0.117045</td>\n      <td>0.028272</td>\n      <td>0.0</td>\n      <td>0.724667</td>\n      <td>9.172945</td>\n      <td>22.595834</td>\n      <td>52.268010</td>\n    </tr>\n    <tr>\n      <th>1</th>\n      <td>1998-10-01</td>\n      <td>0.065216</td>\n      <td>0.000000</td>\n      <td>0.011493</td>\n      <td>0.0</td>\n      <td>0.008968</td>\n      <td>2.089674</td>\n      <td>14.702087</td>\n      <td>45.142041</td>\n    </tr>\n    <tr>\n      <th>2</th>\n      <td>2001-02-01</td>\n      <td>2.030026</td>\n      <td>0.047987</td>\n      <td>0.002634</td>\n      <td>0.0</td>\n      <td>0.032163</td>\n      <td>10.768351</td>\n      <td>29.465057</td>\n      <td>65.571098</td>\n    </tr>\n    <tr>\n      <th>3</th>\n      <td>2008-11-01</td>\n      <td>0.622784</td>\n      <td>0.000000</td>\n      <td>0.015872</td>\n      <td>0.0</td>\n      <td>1.734168</td>\n      <td>25.083557</td>\n      <td>64.901645</td>\n      <td>113.093488</td>\n    </tr>\n    <tr>\n      <th>4</th>\n      <td>2009-04-01</td>\n      <td>0.008065</td>\n      <td>0.000000</td>\n      <td>0.009396</td>\n      <td>0.0</td>\n      <td>12.080715</td>\n      <td>56.233424</td>\n      <td>96.364235</td>\n      <td>155.622235</td>\n    </tr>\n  </tbody>\n</table>\n</div>"
     },
     "metadata": {},
     "execution_count": 7
    }
   ],
   "source": [
    "varClim.head()"
   ]
  },
  {
   "source": [
    "Esta base contiene la precipitación en distintas regiones de Chile por fecha."
   ],
   "cell_type": "markdown",
   "metadata": {}
  },
  {
   "cell_type": "code",
   "execution_count": 9,
   "metadata": {},
   "outputs": [
    {
     "output_type": "execute_result",
     "data": {
      "text/plain": [
       "         Coquimbo  Valparaiso  Metropolitana_de_Santiago  \\\n",
       "count  496.000000  496.000000                 496.000000   \n",
       "mean    16.154691   32.450980                  49.666682   \n",
       "std     32.629286   55.434330                  74.361099   \n",
       "min      0.000000    0.000000                   0.000000   \n",
       "25%      0.821521    1.538162                   5.297546   \n",
       "50%      4.071036    9.037825                  19.087592   \n",
       "75%     16.137600   38.409213                  63.408364   \n",
       "max    347.133889  441.048604                 524.592667   \n",
       "\n",
       "       Libertador_Gral__Bernardo_O_Higgins       Maule      Biobio  \\\n",
       "count                           496.000000  496.000000  496.000000   \n",
       "mean                             72.249805   98.662773  128.113406   \n",
       "std                             101.426112  122.766771  130.056094   \n",
       "min                               0.000000    0.000000    0.001170   \n",
       "25%                               5.343992   11.897363   29.356684   \n",
       "50%                              25.995969   45.649888   79.558557   \n",
       "75%                             101.875093  142.230716  184.751307   \n",
       "max                             645.515752  759.177712  702.434707   \n",
       "\n",
       "       La_Araucania    Los_Rios  \n",
       "count    496.000000  496.000000  \n",
       "mean     151.486456  199.451789  \n",
       "std      126.628503  140.073615  \n",
       "min        0.005331    0.748127  \n",
       "25%       52.930343   89.805643  \n",
       "50%      110.570990  159.467940  \n",
       "75%      208.316243  274.594590  \n",
       "max      661.211203  717.735673  "
      ],
      "text/html": "<div>\n<style scoped>\n    .dataframe tbody tr th:only-of-type {\n        vertical-align: middle;\n    }\n\n    .dataframe tbody tr th {\n        vertical-align: top;\n    }\n\n    .dataframe thead th {\n        text-align: right;\n    }\n</style>\n<table border=\"1\" class=\"dataframe\">\n  <thead>\n    <tr style=\"text-align: right;\">\n      <th></th>\n      <th>Coquimbo</th>\n      <th>Valparaiso</th>\n      <th>Metropolitana_de_Santiago</th>\n      <th>Libertador_Gral__Bernardo_O_Higgins</th>\n      <th>Maule</th>\n      <th>Biobio</th>\n      <th>La_Araucania</th>\n      <th>Los_Rios</th>\n    </tr>\n  </thead>\n  <tbody>\n    <tr>\n      <th>count</th>\n      <td>496.000000</td>\n      <td>496.000000</td>\n      <td>496.000000</td>\n      <td>496.000000</td>\n      <td>496.000000</td>\n      <td>496.000000</td>\n      <td>496.000000</td>\n      <td>496.000000</td>\n    </tr>\n    <tr>\n      <th>mean</th>\n      <td>16.154691</td>\n      <td>32.450980</td>\n      <td>49.666682</td>\n      <td>72.249805</td>\n      <td>98.662773</td>\n      <td>128.113406</td>\n      <td>151.486456</td>\n      <td>199.451789</td>\n    </tr>\n    <tr>\n      <th>std</th>\n      <td>32.629286</td>\n      <td>55.434330</td>\n      <td>74.361099</td>\n      <td>101.426112</td>\n      <td>122.766771</td>\n      <td>130.056094</td>\n      <td>126.628503</td>\n      <td>140.073615</td>\n    </tr>\n    <tr>\n      <th>min</th>\n      <td>0.000000</td>\n      <td>0.000000</td>\n      <td>0.000000</td>\n      <td>0.000000</td>\n      <td>0.000000</td>\n      <td>0.001170</td>\n      <td>0.005331</td>\n      <td>0.748127</td>\n    </tr>\n    <tr>\n      <th>25%</th>\n      <td>0.821521</td>\n      <td>1.538162</td>\n      <td>5.297546</td>\n      <td>5.343992</td>\n      <td>11.897363</td>\n      <td>29.356684</td>\n      <td>52.930343</td>\n      <td>89.805643</td>\n    </tr>\n    <tr>\n      <th>50%</th>\n      <td>4.071036</td>\n      <td>9.037825</td>\n      <td>19.087592</td>\n      <td>25.995969</td>\n      <td>45.649888</td>\n      <td>79.558557</td>\n      <td>110.570990</td>\n      <td>159.467940</td>\n    </tr>\n    <tr>\n      <th>75%</th>\n      <td>16.137600</td>\n      <td>38.409213</td>\n      <td>63.408364</td>\n      <td>101.875093</td>\n      <td>142.230716</td>\n      <td>184.751307</td>\n      <td>208.316243</td>\n      <td>274.594590</td>\n    </tr>\n    <tr>\n      <th>max</th>\n      <td>347.133889</td>\n      <td>441.048604</td>\n      <td>524.592667</td>\n      <td>645.515752</td>\n      <td>759.177712</td>\n      <td>702.434707</td>\n      <td>661.211203</td>\n      <td>717.735673</td>\n    </tr>\n  </tbody>\n</table>\n</div>"
     },
     "metadata": {},
     "execution_count": 9
    }
   ],
   "source": [
    "varClim.describe()"
   ]
  },
  {
   "cell_type": "code",
   "execution_count": 10,
   "metadata": {},
   "outputs": [
    {
     "output_type": "execute_result",
     "data": {
      "text/plain": [
       "                   Periodo Imacec_empalmado Imacec_produccion_de_bienes  \\\n",
       "0  2013-03-01 00:00:00 UTC      102.796.218                  10.546.824   \n",
       "1  2013-04-01 00:00:00 UTC      101.664.842                 999.272.757   \n",
       "2  2013-05-01 00:00:00 UTC      101.642.954                 993.959.922   \n",
       "3  2013-06-01 00:00:00 UTC      998.310.201                 968.367.884   \n",
       "4  2013-07-01 00:00:00 UTC      964.696.194                 961.051.418   \n",
       "\n",
       "  Imacec_minero Imacec_industria Imacec_resto_de_bienes Imacec_comercio  \\\n",
       "0   978.554.365      102.297.537            114.994.919     110.729.395   \n",
       "1   927.333.293      104.485.589            102.199.311     106.098.291   \n",
       "2    96.133.164      105.445.361            968.789.055     100.462.117   \n",
       "3   102.400.933      999.212.106             89.190.493     939.504.414   \n",
       "4   980.029.022      100.882.112            901.785.886      92.776.599   \n",
       "\n",
       "  Imacec_servicios Imacec_a_costo_de_factores Imacec_no_minero  ...  \\\n",
       "0      100.064.328                103.163.651      103.405.852  ...   \n",
       "1      102.600.107                101.937.319      102.766.884  ...   \n",
       "2      104.083.216                101.953.299      102.322.796  ...   \n",
       "3      103.857.161                100.222.381      995.139.235  ...   \n",
       "4      969.309.272                962.069.134      962.804.305  ...   \n",
       "\n",
       "  Indice_de_tipo_de_cambio_real___TCR_promedio_1986_100  \\\n",
       "0                                        865.903.468      \n",
       "1                                        867.806.065      \n",
       "2                                        878.030.947      \n",
       "3                                        913.180.348      \n",
       "4                                        909.263.447      \n",
       "\n",
       "  Indice_de_produccion_industrial Indice_de_produccion_industrial__mineria  \\\n",
       "0                     102.761.705                               98.915.705   \n",
       "1                     968.087.179                              914.276.663   \n",
       "2                     978.471.874                              966.913.278   \n",
       "3                     966.647.135                              981.820.974   \n",
       "4                     100.100.749                              990.198.382   \n",
       "\n",
       "  Indice_de_produccion_industrial_electricidad__gas_y_agua  \\\n",
       "0                                                NaN         \n",
       "1                                                NaN         \n",
       "2                                                NaN         \n",
       "3                                                NaN         \n",
       "4                                                NaN         \n",
       "\n",
       "  Indice_de_produccion_industrial__manufacturera  \\\n",
       "0                                    108.387.837   \n",
       "1                                    104.545.429   \n",
       "2                                     99.468.801   \n",
       "3                                     94.969.678   \n",
       "4                                    102.128.977   \n",
       "\n",
       "  Generacion_de_energia_electrica_CDEC_GWh  \\\n",
       "0                              580.480.672   \n",
       "1                              544.815.032   \n",
       "2                               56.891.916   \n",
       "3                               56.594.867   \n",
       "4                              586.329.899   \n",
       "\n",
       "  Indice_de_ventas_comercio_real_IVCM  \\\n",
       "0                                 NaN   \n",
       "1                                 NaN   \n",
       "2                                 NaN   \n",
       "3                                 NaN   \n",
       "4                                 NaN   \n",
       "\n",
       "  Indice_de_ventas_comercio_real_no_durables_IVCM  \\\n",
       "0                                             NaN   \n",
       "1                                             NaN   \n",
       "2                                             NaN   \n",
       "3                                             NaN   \n",
       "4                                             NaN   \n",
       "\n",
       "  Indice_de_ventas_comercio_real_durables_IVCM Ventas_autos_nuevos  \n",
       "0                                          NaN             28577.0  \n",
       "1                                          NaN             32206.0  \n",
       "2                                          NaN             31589.0  \n",
       "3                                          NaN             28457.0  \n",
       "4                                          NaN             31736.0  \n",
       "\n",
       "[5 rows x 85 columns]"
      ],
      "text/html": "<div>\n<style scoped>\n    .dataframe tbody tr th:only-of-type {\n        vertical-align: middle;\n    }\n\n    .dataframe tbody tr th {\n        vertical-align: top;\n    }\n\n    .dataframe thead th {\n        text-align: right;\n    }\n</style>\n<table border=\"1\" class=\"dataframe\">\n  <thead>\n    <tr style=\"text-align: right;\">\n      <th></th>\n      <th>Periodo</th>\n      <th>Imacec_empalmado</th>\n      <th>Imacec_produccion_de_bienes</th>\n      <th>Imacec_minero</th>\n      <th>Imacec_industria</th>\n      <th>Imacec_resto_de_bienes</th>\n      <th>Imacec_comercio</th>\n      <th>Imacec_servicios</th>\n      <th>Imacec_a_costo_de_factores</th>\n      <th>Imacec_no_minero</th>\n      <th>...</th>\n      <th>Indice_de_tipo_de_cambio_real___TCR_promedio_1986_100</th>\n      <th>Indice_de_produccion_industrial</th>\n      <th>Indice_de_produccion_industrial__mineria</th>\n      <th>Indice_de_produccion_industrial_electricidad__gas_y_agua</th>\n      <th>Indice_de_produccion_industrial__manufacturera</th>\n      <th>Generacion_de_energia_electrica_CDEC_GWh</th>\n      <th>Indice_de_ventas_comercio_real_IVCM</th>\n      <th>Indice_de_ventas_comercio_real_no_durables_IVCM</th>\n      <th>Indice_de_ventas_comercio_real_durables_IVCM</th>\n      <th>Ventas_autos_nuevos</th>\n    </tr>\n  </thead>\n  <tbody>\n    <tr>\n      <th>0</th>\n      <td>2013-03-01 00:00:00 UTC</td>\n      <td>102.796.218</td>\n      <td>10.546.824</td>\n      <td>978.554.365</td>\n      <td>102.297.537</td>\n      <td>114.994.919</td>\n      <td>110.729.395</td>\n      <td>100.064.328</td>\n      <td>103.163.651</td>\n      <td>103.405.852</td>\n      <td>...</td>\n      <td>865.903.468</td>\n      <td>102.761.705</td>\n      <td>98.915.705</td>\n      <td>NaN</td>\n      <td>108.387.837</td>\n      <td>580.480.672</td>\n      <td>NaN</td>\n      <td>NaN</td>\n      <td>NaN</td>\n      <td>28577.0</td>\n    </tr>\n    <tr>\n      <th>1</th>\n      <td>2013-04-01 00:00:00 UTC</td>\n      <td>101.664.842</td>\n      <td>999.272.757</td>\n      <td>927.333.293</td>\n      <td>104.485.589</td>\n      <td>102.199.311</td>\n      <td>106.098.291</td>\n      <td>102.600.107</td>\n      <td>101.937.319</td>\n      <td>102.766.884</td>\n      <td>...</td>\n      <td>867.806.065</td>\n      <td>968.087.179</td>\n      <td>914.276.663</td>\n      <td>NaN</td>\n      <td>104.545.429</td>\n      <td>544.815.032</td>\n      <td>NaN</td>\n      <td>NaN</td>\n      <td>NaN</td>\n      <td>32206.0</td>\n    </tr>\n    <tr>\n      <th>2</th>\n      <td>2013-05-01 00:00:00 UTC</td>\n      <td>101.642.954</td>\n      <td>993.959.922</td>\n      <td>96.133.164</td>\n      <td>105.445.361</td>\n      <td>968.789.055</td>\n      <td>100.462.117</td>\n      <td>104.083.216</td>\n      <td>101.953.299</td>\n      <td>102.322.796</td>\n      <td>...</td>\n      <td>878.030.947</td>\n      <td>978.471.874</td>\n      <td>966.913.278</td>\n      <td>NaN</td>\n      <td>99.468.801</td>\n      <td>56.891.916</td>\n      <td>NaN</td>\n      <td>NaN</td>\n      <td>NaN</td>\n      <td>31589.0</td>\n    </tr>\n    <tr>\n      <th>3</th>\n      <td>2013-06-01 00:00:00 UTC</td>\n      <td>998.310.201</td>\n      <td>968.367.884</td>\n      <td>102.400.933</td>\n      <td>999.212.106</td>\n      <td>89.190.493</td>\n      <td>939.504.414</td>\n      <td>103.857.161</td>\n      <td>100.222.381</td>\n      <td>995.139.235</td>\n      <td>...</td>\n      <td>913.180.348</td>\n      <td>966.647.135</td>\n      <td>981.820.974</td>\n      <td>NaN</td>\n      <td>94.969.678</td>\n      <td>56.594.867</td>\n      <td>NaN</td>\n      <td>NaN</td>\n      <td>NaN</td>\n      <td>28457.0</td>\n    </tr>\n    <tr>\n      <th>4</th>\n      <td>2013-07-01 00:00:00 UTC</td>\n      <td>964.696.194</td>\n      <td>961.051.418</td>\n      <td>980.029.022</td>\n      <td>100.882.112</td>\n      <td>901.785.886</td>\n      <td>92.776.599</td>\n      <td>969.309.272</td>\n      <td>962.069.134</td>\n      <td>962.804.305</td>\n      <td>...</td>\n      <td>909.263.447</td>\n      <td>100.100.749</td>\n      <td>990.198.382</td>\n      <td>NaN</td>\n      <td>102.128.977</td>\n      <td>586.329.899</td>\n      <td>NaN</td>\n      <td>NaN</td>\n      <td>NaN</td>\n      <td>31736.0</td>\n    </tr>\n  </tbody>\n</table>\n<p>5 rows × 85 columns</p>\n</div>"
     },
     "metadata": {},
     "execution_count": 10
    }
   ],
   "source": [
    "varMacr.head()"
   ]
  },
  {
   "cell_type": "code",
   "execution_count": 12,
   "metadata": {},
   "outputs": [
    {
     "output_type": "execute_result",
     "data": {
      "text/plain": [
       "   Anio  Mes  Precio_leche\n",
       "0  1979  Ene          3.85\n",
       "1  1979  Feb          4.58\n",
       "2  1979  Mar          5.18\n",
       "3  1979  Abr          6.06\n",
       "4  1979  May          7.25"
      ],
      "text/html": "<div>\n<style scoped>\n    .dataframe tbody tr th:only-of-type {\n        vertical-align: middle;\n    }\n\n    .dataframe tbody tr th {\n        vertical-align: top;\n    }\n\n    .dataframe thead th {\n        text-align: right;\n    }\n</style>\n<table border=\"1\" class=\"dataframe\">\n  <thead>\n    <tr style=\"text-align: right;\">\n      <th></th>\n      <th>Anio</th>\n      <th>Mes</th>\n      <th>Precio_leche</th>\n    </tr>\n  </thead>\n  <tbody>\n    <tr>\n      <th>0</th>\n      <td>1979</td>\n      <td>Ene</td>\n      <td>3.85</td>\n    </tr>\n    <tr>\n      <th>1</th>\n      <td>1979</td>\n      <td>Feb</td>\n      <td>4.58</td>\n    </tr>\n    <tr>\n      <th>2</th>\n      <td>1979</td>\n      <td>Mar</td>\n      <td>5.18</td>\n    </tr>\n    <tr>\n      <th>3</th>\n      <td>1979</td>\n      <td>Abr</td>\n      <td>6.06</td>\n    </tr>\n    <tr>\n      <th>4</th>\n      <td>1979</td>\n      <td>May</td>\n      <td>7.25</td>\n    </tr>\n  </tbody>\n</table>\n</div>"
     },
     "metadata": {},
     "execution_count": 12
    }
   ],
   "source": [
    "precios.head()"
   ]
  },
  {
   "cell_type": "code",
   "execution_count": null,
   "metadata": {},
   "outputs": [],
   "source": []
  }
 ]
}